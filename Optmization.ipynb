{
 "cells": [
  {
   "cell_type": "code",
   "execution_count": null,
   "metadata": {
    "collapsed": true
   },
   "outputs": [],
   "source": [
    "import pandas as pd\n",
    "import numpy as np\n",
    "from itertools import product"
   ]
  },
  {
   "cell_type": "code",
   "execution_count": null,
   "metadata": {
    "collapsed": true
   },
   "outputs": [],
   "source": [
    "# for 12/08/18\n",
    "\n",
    "SG = pd.read_csv('predict_SG_del_1208.csv')\n",
    "PG = pd.read_csv('predict_PG_del_1208.csv')\n",
    "G = pd.read_csv('predict_G_del_1208.csv')\n",
    "C = pd.read_csv('predict_C_del_1208.csv')\n",
    "F = pd.read_csv('predict_F_del_1208.csv')\n",
    "PF = pd.read_csv('predict_PF_del_1208.csv')\n",
    "SF = pd.read_csv('predict_SF_del_1208.csv')\n",
    "UTL = pd.read_csv('predict_UTL_del_1208.csv')\n",
    "real = pd.read_csv('game_log_1208.csv')"
   ]
  },
  {
   "cell_type": "code",
   "execution_count": null,
   "metadata": {
    "collapsed": true
   },
   "outputs": [],
   "source": [
    "# select top 20%\n",
    "SG_new = SG.loc[SG['score'] > SG.score.describe([0.8])['80%']]\n",
    "PG_new = PG.loc[PG['score'] > PG.score.describe([0.8])['80%']] \n",
    "G_new = G.loc[G['score'] > G.score.describe([0.8])['80%']] \n",
    "C_new = C.loc[C['score'] > C.score.describe([0.8])['80%']] \n",
    "F_new = F.loc[F['score'] > F.score.describe([0.8])['80%']] \n",
    "PF_new = PF.loc[PF['score'] > PF.score.describe([0.8])['80%']] \n",
    "SF_new = SF.loc[SF['score'] > SF.score.describe([0.8])['80%']] \n",
    "UTL_new = UTL.loc[UTL['score'] > UTL.score.describe([0.8])['80%']] "
   ]
  },
  {
   "cell_type": "code",
   "execution_count": null,
   "metadata": {
    "collapsed": true
   },
   "outputs": [],
   "source": [
    "# create df with all possible combinations\n",
    "team = pd.DataFrame(list(product(SG_new['name_SG'], PG_new['name_PG'], G_new['name_G'], C_new['name_C'], \n",
    "             F_new['name_F'], PF_new['name_PF'], SF_new['name_SF'], UTL_new['name_UTL'])))\n",
    "team.columns = ['name_SG','name_PG', 'name_G','name_C', 'name_F','name_PF','name_SF','name_UTL']\n",
    "team = pd.merge(team, SG_new, on = 'name_SG', how = 'left')\n",
    "team = pd.merge(team, PG_new, on = 'name_PG', how = 'left')\n",
    "team = pd.merge(team, G_new, on = 'name_G', how = 'left')\n",
    "team = pd.merge(team, C_new, on = 'name_C', how = 'left')\n",
    "team = pd.merge(team, F_new, on = 'name_F', how = 'left')\n",
    "team = pd.merge(team, PF_new, on = 'name_PF', how = 'left')\n",
    "team = pd.merge(team, SF_new, on = 'name_SF', how = 'left')\n",
    "team = pd.merge(team, UTL_new, on = 'name_UTL', how = 'left')"
   ]
  },
  {
   "cell_type": "code",
   "execution_count": null,
   "metadata": {
    "collapsed": true
   },
   "outputs": [],
   "source": [
    "# calculate score and salary for the teams\n",
    "team['score_sum'] = team['score_SG'] +team['score_PG'] +team['score_G'] + team['score_C'] +team['score_F'] +team['score_PF'] +team['score_SF'] + team['score_UTL']\n",
    "team['salary_sum'] = team['salary_SG'] +team['salary_PG'] +team['salary_G'] + team['salary_C'] +team['salary_F'] +team['salary_PF'] +team['salary_SF'] + team['salary_UTL'] \n",
    "\n",
    "team_subset = team[['name_SG', 'name_PG', 'name_G', 'name_C', 'name_F', 'name_PF',\n",
    "       'name_SF', 'name_UTL','score_sum', 'salary_sum']]\n",
    "\n",
    "# cut at $50,000 limit\n",
    "team_subset = team_subset.sort_values('salary_sum', ascending=False)\n",
    "\n",
    "final = team_subset.loc[team_subset['salary_sum'] <= 50000].sort_values('score_sum', ascending=False)"
   ]
  },
  {
   "cell_type": "code",
   "execution_count": null,
   "metadata": {
    "collapsed": true
   },
   "outputs": [],
   "source": [
    "# assign one player only to one position\n",
    "final_1 = final[(final['name_F'] != final['name_SF']) &\n",
    "           (final['name_SG'] != final['name_UTL']) &\n",
    "           (final['name_SG'] != final['name_F']) &\n",
    "           (final['name_SG'] != final['name_G']) &\n",
    "           (final['name_G'] != final['name_F']) &\n",
    "           (final['name_SG'] != final['name_SF']) &\n",
    "           (final['name_SF'] != final['name_UTL']) &\n",
    "           (final['name_G'] != final['name_UTL']) &\n",
    "           (final['name_PG'] != final['name_UTL']) &\n",
    "           (final['name_C'] != final['name_UTL']) &\n",
    "           (final['name_F'] != final['name_UTL']) &\n",
    "           (final['name_PF'] != final['name_UTL']) &\n",
    "           (final['name_F'] != final['name_PF']) &\n",
    "           (final['name_G'] != final['name_SF']) &\n",
    "           (final['name_PG'] != final['name_G']) &\n",
    "           (final['name_SG'] != final['name_PG']) &\n",
    "           (final['name_C'] != final['name_PF']) &\n",
    "           (final['name_C'] != final['name_F']) &\n",
    "           (final['name_PF'] != final['name_SF'])   ]\n",
    "          \n",
    "# the best team with the highest score is selected\n",
    "chosen = final_1.iloc[0, 0:8]"
   ]
  },
  {
   "cell_type": "code",
   "execution_count": null,
   "metadata": {
    "collapsed": true
   },
   "outputs": [],
   "source": [
    "# predicted scores of the selected players\n",
    "predicted = pd.concat([SG, PG, G, C, F, PF, SF, UTL])\n",
    "p = predicted[predicted[\"name\"].isin(final_1.iloc[0, 0:8])].drop_duplicates('name')[['name','salary', 'score']]\n",
    "\n",
    "# obtain real scores after the game is over\n",
    "r = real[real[\"game_log_today.namePlayer\"].isin(final_1.iloc[0, 0:8])][['game_log_today.namePlayer', 'game_log_today.score']]\n",
    "r.columns = ['name', 'score']\n",
    "\n",
    "# compare predicted scores with the real scores\n",
    "res = pd.merge(p,r, how='left', on='name')\n",
    "res.loc['Total',:]= res[['salary', 'score_predicted', 'score_real']].sum(axis=0)"
   ]
  }
 ],
 "metadata": {
  "kernelspec": {
   "display_name": "Python 3",
   "language": "python",
   "name": "python3"
  },
  "language_info": {
   "codemirror_mode": {
    "name": "ipython",
    "version": 3
   },
   "file_extension": ".py",
   "mimetype": "text/x-python",
   "name": "python",
   "nbconvert_exporter": "python",
   "pygments_lexer": "ipython3",
   "version": "3.6.3"
  }
 },
 "nbformat": 4,
 "nbformat_minor": 2
}
